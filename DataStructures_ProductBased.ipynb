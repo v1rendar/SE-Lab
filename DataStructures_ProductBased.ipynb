{
  "nbformat": 4,
  "nbformat_minor": 0,
  "metadata": {
    "colab": {
      "provenance": [],
      "collapsed_sections": [
        "hhibFkvJaw4F",
        "ncczy6CEcra6"
      ],
      "authorship_tag": "ABX9TyMDZy/I9/I2Q9P4RTrzLY+N",
      "include_colab_link": true
    },
    "kernelspec": {
      "name": "python3",
      "display_name": "Python 3"
    },
    "language_info": {
      "name": "python"
    }
  },
  "cells": [
    {
      "cell_type": "markdown",
      "metadata": {
        "id": "view-in-github",
        "colab_type": "text"
      },
      "source": [
        "<a href=\"https://colab.research.google.com/github/v1rendar/SE-Lab/blob/main/DataStructures_ProductBased.ipynb\" target=\"_parent\"><img src=\"https://colab.research.google.com/assets/colab-badge.svg\" alt=\"Open In Colab\"/></a>"
      ]
    },
    {
      "cell_type": "markdown",
      "source": [
        "#**21/8/24**"
      ],
      "metadata": {
        "id": "hhibFkvJaw4F"
      }
    },
    {
      "cell_type": "markdown",
      "source": [
        "**Number of factors of a number**"
      ],
      "metadata": {
        "id": "A2fZT_4BaMwF"
      }
    },
    {
      "cell_type": "code",
      "execution_count": 1,
      "metadata": {
        "id": "zAVCQo8naKIp"
      },
      "outputs": [],
      "source": [
        "def factors_Brute_Force(n):\n",
        "  count = 0\n",
        "  for i in range(1,n+1):\n",
        "    if n%1==0:\n",
        "      count+= 1\n",
        "      return count"
      ]
    },
    {
      "cell_type": "code",
      "source": [
        "def factors_optimized(n):\n",
        "  count = 0\n",
        "  i = 1\n",
        "  while(i*i<=n):\n",
        "    if(n%i==0):\n",
        "      count +=2\n",
        "    i+=1\n",
        "    return count"
      ],
      "metadata": {
        "id": "mPlJU5FbbPV8"
      },
      "execution_count": 2,
      "outputs": []
    },
    {
      "cell_type": "code",
      "source": [
        "import random"
      ],
      "metadata": {
        "id": "g47C5a5ibyOO"
      },
      "execution_count": 3,
      "outputs": []
    },
    {
      "cell_type": "code",
      "source": [
        "for i in range(10):\n",
        "  n=random.randint(1,1000)\n",
        "  print(n)\n",
        "print(factors_Brute_Force(n))\n",
        "print(factors_optimized(n))"
      ],
      "metadata": {
        "colab": {
          "base_uri": "https://localhost:8080/"
        },
        "id": "SxzN7JTab0Gw",
        "outputId": "cb999fc8-a08b-40e2-f664-38254cb0f174"
      },
      "execution_count": 4,
      "outputs": [
        {
          "output_type": "stream",
          "name": "stdout",
          "text": [
            "166\n",
            "50\n",
            "313\n",
            "622\n",
            "965\n",
            "472\n",
            "919\n",
            "651\n",
            "192\n",
            "840\n",
            "1\n",
            "2\n"
          ]
        }
      ]
    },
    {
      "cell_type": "markdown",
      "source": [
        "*assignment question*\n",
        "1. write a program to find max number of consequtive positive numbers in set of numbers"
      ],
      "metadata": {
        "id": "EBO5soY7eFvR"
      }
    },
    {
      "cell_type": "markdown",
      "source": [
        "2. write a program max product of any 2 numbers in a set of numbers"
      ],
      "metadata": {
        "id": "OZLN4ZzpenTV"
      }
    },
    {
      "cell_type": "markdown",
      "source": [
        "#  22/8/24"
      ],
      "metadata": {
        "id": "ncczy6CEcra6"
      }
    },
    {
      "cell_type": "markdown",
      "source": [
        "**Sum of multiples of n1 and n2 in the range of 1 to n**"
      ],
      "metadata": {
        "id": "s7hoINn9et1S"
      }
    },
    {
      "cell_type": "code",
      "source": [
        "n1 = 10\n",
        "n2 = 15\n",
        "n = 50"
      ],
      "metadata": {
        "id": "GQlGcexscwiJ"
      },
      "execution_count": null,
      "outputs": []
    },
    {
      "cell_type": "code",
      "source": [
        "def gcd(m,n):\n",
        "  if n==0:\n",
        "    return m\n",
        "    gcd(n,m%n)"
      ],
      "metadata": {
        "id": "REAytJJmiLGB"
      },
      "execution_count": null,
      "outputs": []
    },
    {
      "cell_type": "code",
      "source": [
        "def sum_multiples_brute_force(n1,n2,n):\n",
        "  mult_sum = 0\n",
        "  for i in range(n):\n",
        "    if i%n1==0 or i%n2==0:\n",
        "      mult_sum+=i\n",
        "  return mult_sum"
      ],
      "metadata": {
        "id": "jqezZkXlfFy1"
      },
      "execution_count": null,
      "outputs": []
    },
    {
      "cell_type": "code",
      "source": [
        "def sum_multiples_optimized(n1,n2,n):\n",
        "  n1fs=n//n1\n",
        "  n2fs=n//n2\n",
        "  lcm = (n1*n2//gcd(n1,n2))\n",
        "  n12fs=n//lcm\n",
        "  n1sum=n1*n1fs*(n1fs+1)//2\n",
        "  n2sum=n2*n2fs*(n2fs+1)//2\n",
        "  n12sum=n1*n2*n12fs*(n12fs+1)//2\n",
        "  return n1sum+n2sum-n12sum"
      ],
      "metadata": {
        "id": "8_M3FkWbf465"
      },
      "execution_count": null,
      "outputs": []
    },
    {
      "cell_type": "code",
      "source": [
        "print(sum_multiples_brute_force(n1,n2,n))\n",
        "print(sum_multiples_optimized(n1,n2,n))"
      ],
      "metadata": {
        "colab": {
          "base_uri": "https://localhost:8080/"
        },
        "id": "JKrq-KJVfccA",
        "outputId": "6004f5df-4f04-4d77-cac6-49357a179fbc"
      },
      "execution_count": null,
      "outputs": [
        {
          "output_type": "stream",
          "name": "stdout",
          "text": [
            "160\n",
            "240\n"
          ]
        }
      ]
    },
    {
      "cell_type": "markdown",
      "source": [
        "**write a program to find all the prime factors of a number**"
      ],
      "metadata": {
        "id": "SzfmRjqnkDm1"
      }
    },
    {
      "cell_type": "markdown",
      "source": [
        "# 23/3/24"
      ],
      "metadata": {
        "id": "dkJZMgTfuznp"
      }
    },
    {
      "cell_type": "markdown",
      "source": [
        "**The Prime Factors of a number**"
      ],
      "metadata": {
        "id": "GfSnDBIsu3_s"
      }
    },
    {
      "cell_type": "code",
      "source": [
        "n = 1000000007"
      ],
      "metadata": {
        "id": "MjjeJYzFve5b"
      },
      "execution_count": null,
      "outputs": []
    },
    {
      "cell_type": "code",
      "source": [
        "def prime_factors(n):\n",
        "  i = 2\n",
        "  count1 = 0\n",
        "  count2 = 0\n",
        "  while(i*i<=n):\n",
        "    count1+=1\n",
        "    if(n%i==0):\n",
        "      print(i)\n",
        "      while (n%i==0):\n",
        "        n=n//i\n",
        "        count2+=1\n",
        "    i+=1\n",
        "  if (n>1):\n",
        "    print(n)\n",
        "    print(\"count1 :\", count1)\n",
        "    print(\"count2 :\", count2)"
      ],
      "metadata": {
        "id": "kBawww-Gu3Q_"
      },
      "execution_count": null,
      "outputs": []
    },
    {
      "cell_type": "code",
      "source": [
        "prime_factors(n)"
      ],
      "metadata": {
        "colab": {
          "base_uri": "https://localhost:8080/"
        },
        "id": "A3tAGr4mvlS1",
        "outputId": "5d933d25-17ef-4764-bacb-b078b25538e7"
      },
      "execution_count": null,
      "outputs": [
        {
          "output_type": "stream",
          "name": "stdout",
          "text": [
            "1000000007\n",
            "count1 : 31621\n",
            "count2 : 0\n"
          ]
        }
      ]
    },
    {
      "cell_type": "code",
      "source": [
        "def num_factors_with_primefactors(n):\n",
        "  i = 2\n",
        "  nfs=1\n",
        "  while(i*i<=n):\n",
        "    if(n%i==0):\n",
        "      pwr=0\n",
        "      while (n%i==0):\n",
        "        n=n//i\n",
        "        pwr+=1\n",
        "      nfs+=pwr+1\n",
        "    i+=1\n",
        "  if (n>1):\n",
        "    nfs=nfs*2\n",
        "  return nfs"
      ],
      "metadata": {
        "id": "m_YRvM1by6PA"
      },
      "execution_count": null,
      "outputs": []
    },
    {
      "cell_type": "code",
      "source": [
        "n = 24\n",
        "print(factors_Brute_Force(n))\n",
        "print(factors_optimized(n))\n",
        "print(num_factors_with_primefactors(n))"
      ],
      "metadata": {
        "colab": {
          "base_uri": "https://localhost:8080/"
        },
        "id": "u4QF1U4v0pt4",
        "outputId": "971119a0-5e1b-4624-c100-73498c50a5db"
      },
      "execution_count": null,
      "outputs": [
        {
          "output_type": "stream",
          "name": "stdout",
          "text": [
            "1\n",
            "2\n",
            "10\n"
          ]
        }
      ]
    },
    {
      "cell_type": "code",
      "source": [
        "%%timeit\n",
        "factors_Brute_Force(n)"
      ],
      "metadata": {
        "colab": {
          "base_uri": "https://localhost:8080/"
        },
        "id": "-ckBN0Jd1lt_",
        "outputId": "0f70c311-3792-4d44-8133-467c807462bd"
      },
      "execution_count": null,
      "outputs": [
        {
          "output_type": "stream",
          "name": "stdout",
          "text": [
            "480 ns ± 137 ns per loop (mean ± std. dev. of 7 runs, 1000000 loops each)\n"
          ]
        }
      ]
    },
    {
      "cell_type": "code",
      "source": [
        "%%timeit\n",
        "factors_optimized(n)"
      ],
      "metadata": {
        "colab": {
          "base_uri": "https://localhost:8080/"
        },
        "id": "Esx3wG3U1rsx",
        "outputId": "4f735bd1-d1db-4181-ac68-9802c7ba874b"
      },
      "execution_count": null,
      "outputs": [
        {
          "output_type": "stream",
          "name": "stdout",
          "text": [
            "263 ns ± 4.17 ns per loop (mean ± std. dev. of 7 runs, 1000000 loops each)\n"
          ]
        }
      ]
    },
    {
      "cell_type": "code",
      "source": [
        "%%timeit\n",
        "num_factors_with_primefactors(n)"
      ],
      "metadata": {
        "colab": {
          "base_uri": "https://localhost:8080/"
        },
        "id": "x6auiGiO1wbt",
        "outputId": "7e36aae2-58ed-4f1c-9e29-71951cfcaed7"
      },
      "execution_count": null,
      "outputs": [
        {
          "output_type": "stream",
          "name": "stdout",
          "text": [
            "825 ns ± 212 ns per loop (mean ± std. dev. of 7 runs, 1000000 loops each)\n"
          ]
        }
      ]
    },
    {
      "cell_type": "markdown",
      "source": [
        "write a program to find number of factors of factorial n(n value is between 1 and 1000)"
      ],
      "metadata": {
        "id": "tFzfn9xO2wNb"
      }
    }
  ]
}