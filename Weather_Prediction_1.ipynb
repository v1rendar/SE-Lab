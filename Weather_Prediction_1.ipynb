{
  "nbformat": 4,
  "nbformat_minor": 0,
  "metadata": {
    "colab": {
      "provenance": [],
      "authorship_tag": "ABX9TyNzYdnzaPleUWWDqvEtlZD9",
      "include_colab_link": true
    },
    "kernelspec": {
      "name": "python3",
      "display_name": "Python 3"
    },
    "language_info": {
      "name": "python"
    }
  },
  "cells": [
    {
      "cell_type": "markdown",
      "metadata": {
        "id": "view-in-github",
        "colab_type": "text"
      },
      "source": [
        "<a href=\"https://colab.research.google.com/github/v1rendar/SE-Lab/blob/Weather-Prediction/Weather_Prediction_1.ipynb\" target=\"_parent\"><img src=\"https://colab.research.google.com/assets/colab-badge.svg\" alt=\"Open In Colab\"/></a>"
      ]
    },
    {
      "cell_type": "code",
      "execution_count": 2,
      "metadata": {
        "colab": {
          "base_uri": "https://localhost:8080/"
        },
        "id": "9DF41ig1eyvw",
        "outputId": "1ba88194-d4e6-4929-f15b-3b4c0652f0cc"
      },
      "outputs": [
        {
          "output_type": "stream",
          "name": "stdout",
          "text": [
            "Sunny\n"
          ]
        }
      ],
      "source": [
        "t=30\n",
        "h=45\n",
        "wind = 10\n",
        "w = 0.5 * (t**2) -(0.2*h)+ (0.1 * wind) - 15\n",
        "if w > 10:\n",
        "   print(\"Sunny\")\n",
        "elif 0 <= w <= 10:\n",
        "   print(\"Windy\")\n",
        "elif -10 <w< 0:\n",
        "   print(\"Cloudy\")\n",
        "elif w-10:\n",
        "  print(\"Rainy\")"
      ]
    }
  ]
}