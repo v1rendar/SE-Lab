{
  "nbformat": 4,
  "nbformat_minor": 0,
  "metadata": {
    "colab": {
      "provenance": [],
      "authorship_tag": "ABX9TyMgE/EQOkWQgkG3Aw4sNmIL",
      "include_colab_link": true
    },
    "kernelspec": {
      "name": "python3",
      "display_name": "Python 3"
    },
    "language_info": {
      "name": "python"
    }
  },
  "cells": [
    {
      "cell_type": "markdown",
      "metadata": {
        "id": "view-in-github",
        "colab_type": "text"
      },
      "source": [
        "<a href=\"https://colab.research.google.com/github/v1rendar/SE-Lab/blob/Weather-Prediction/Weather_Prediction_SE.ipynb\" target=\"_parent\"><img src=\"https://colab.research.google.com/assets/colab-badge.svg\" alt=\"Open In Colab\"/></a>"
      ]
    },
    {
      "cell_type": "code",
      "source": [
        "t=int(input(\"enter temperature\"))\n",
        "h=int(input(\"enter humidity\"))\n",
        "wind=int(input(\"enter wind speed\"))\n",
        "w=0.5*(t**2)-(0.2*h)+(0.1*wind)-15\n",
        "if w>10:\n",
        "  print(\"sunny\")\n",
        "elif 0<=w and w<=10:\n",
        "  print(\"windy\")\n",
        "elif -10<=w and w<0:\n",
        "  print(\"cloudy\")\n",
        "elif w<-10:\n",
        "  print(\"rainy\")"
      ],
      "metadata": {
        "colab": {
          "base_uri": "https://localhost:8080/"
        },
        "id": "p2QSsu94WI8l",
        "outputId": "29f536a6-328b-4212-e482-ede5aabba05f"
      },
      "execution_count": 2,
      "outputs": [
        {
          "output_type": "stream",
          "name": "stdout",
          "text": [
            "enter temperature14\n",
            "enter humidity4\n",
            "enter wind speed50\n",
            "sunny\n"
          ]
        }
      ]
    }
  ]
}